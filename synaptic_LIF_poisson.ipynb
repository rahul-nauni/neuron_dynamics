{
 "cells": [
  {
   "attachments": {},
   "cell_type": "markdown",
   "metadata": {},
   "source": [
    "Stimulating a neuron with synaptic current "
   ]
  },
  {
   "cell_type": "code",
   "execution_count": 35,
   "metadata": {},
   "outputs": [],
   "source": [
    "# Importing dependencies\n",
    "import numpy as np\n",
    "import matplotlib.pyplot as plt\n",
    "%matplotlib inline\n",
    "plt.style.use('ggplot')"
   ]
  },
  {
   "attachments": {},
   "cell_type": "markdown",
   "metadata": {},
   "source": [
    "The dynamics of LIF neuron model under synaptic input can be explained by\n",
    "\n",
    "<br>\n",
    "\n",
    "\\begin{equation}\n",
    "    \\tau_m\\frac{dV(t)}{dt} = -(V(t)-E_L) - \\frac{g_E(t)}{g_L} (V(t)-E_E) - \\frac{g_I(t)}{g_L} (V(t)-E_I) + \\frac{I_{\\rm ext}}{g_L}\n",
    "\\end{equation}\n",
    "\n",
    "<br>\n",
    "\n",
    "where $I_{\\rm ext}$ is an external current injected in the neuron"
   ]
  },
  {
   "cell_type": "code",
   "execution_count": 59,
   "metadata": {},
   "outputs": [],
   "source": [
    "# Define the model parameters\n",
    "def default_params(**kwargs):\n",
    "    params = {}\n",
    "\n",
    "    # Define neuron parameters\n",
    "    params['tau_m'] = 50.0 # Membrane time constant\n",
    "    params['g_L'] = 1e-6  # Leak resistance (in ohms)\n",
    "    params['E_L'] = 0.0  # Resting potential (in mV)\n",
    "    params['V_th'] = 20.0  # Threshold voltage (in mV)\n",
    "    params['V_reset'] = 0.0  # Reset voltage (in mV)\n",
    "    params['V_init'] = 0.0   # initial potential [mV]\n",
    "    params['t_ref'] = 2.0  # Refractory period (in ms)\n",
    "\n",
    "    # Define the simulation parameters\n",
    "    params['dt'] = 0.1  # Time step (in ms)\n",
    "    params['T'] = 1000.0  # Simulation duration (in ms)\n",
    "\n",
    "    params['range_t'] = np.arange(0, params['T'], params['dt'])  # Vector of discretized time points [ms]\n",
    "\n",
    "    # external parameters if any \n",
    "    for k in kwargs:\n",
    "        params[k] = kwargs[k]\n",
    "\n",
    "    return params"
   ]
  },
  {
   "cell_type": "code",
   "execution_count": 83,
   "metadata": {},
   "outputs": [],
   "source": [
    "def generate_poisson_spikes(params, rate, user_seed=False):\n",
    "    \"\"\"\n",
    "    Generate poisson spike trains\n",
    "\n",
    "    Args:\n",
    "    params      :   Parameters dictionary\n",
    "    rate        :   Poisson noise amplitude (Hz)\n",
    "    n           :   Number of Poisson spike trains\n",
    "    user_seed   :   Random seed. int or boolean\n",
    "    \"\"\"\n",
    "    # get simulation parameters\n",
    "    dt, T = params['dt'], params['T'] \n",
    "    #range_t = params['range_t']\n",
    "    #Lt = range_t.size\n",
    "    n = int(T / dt) # Number of spike trains\n",
    "    # set random seed\n",
    "    if user_seed:\n",
    "        np.random.seed(seed=user_seed)\n",
    "    else:\n",
    "        np.random.seed()\n",
    "    \n",
    "    # generate poisson spike trains in Hz\n",
    "    I_pos = np.random.poisson(rate * (dt/1000.), size=n) \n",
    "    # convert spike trains to spike currents in mA\n",
    "    I_pos = I_pos * 1e-9\n",
    "    \n",
    "    return I_pos"
   ]
  },
  {
   "cell_type": "code",
   "execution_count": 84,
   "metadata": {},
   "outputs": [],
   "source": [
    "def synaptic_current(I0, tau_syn, t):\n",
    "    return I0 * np.sum(np.exp(-t/tau_syn)) * 1e-9"
   ]
  },
  {
   "cell_type": "code",
   "execution_count": 85,
   "metadata": {},
   "outputs": [],
   "source": [
    "def run_synaptic_LIF(params, I_ext):\n",
    "    \"\"\"\n",
    "    Simulate the LIF dynamics with external input current\n",
    "\n",
    "    Args:\n",
    "        params     : parameter dictionary\n",
    "        I_ext      : external input current [mA]. The injected current here can be a value or an array\n",
    "\n",
    "    Returns:\n",
    "        rec_v      : membrane potential\n",
    "        rec_sp     : spike times\n",
    "    \"\"\"\n",
    " \n",
    "    # Set parameters\n",
    "    V_th, V_reset = params['V_th'], params['V_reset']\n",
    "    tau_m, g_L = params['tau_m'], params['g_L']\n",
    "    I0 = params['I0']\n",
    "    tau_syn = params['tau_syn']\n",
    "    V_init, E_L = params['V_init'], params['E_L']\n",
    "    dt, T, range_t = params['dt'], params['T'], params['range_t']\n",
    "    t_ref = params['t_ref']\n",
    "    Lt = range_t.size\n",
    "    \n",
    "    # Initialize voltage and current\n",
    "    v = np.zeros(Lt)\n",
    "    v[0] = V_init\n",
    "    I_ext = I_ext * np.ones(Lt)\n",
    "    I_syn = np.zeros(Lt)\n",
    "    tr = 0.  # the count for refractory duration\n",
    "\n",
    "    rec_spikes = [] # record spike times\n",
    "    # Simulate LIF dyanmics\n",
    "    for it in range(Lt - 1):\n",
    "        \n",
    "        # Compute synaptic current\n",
    "        if len(rec_spikes) > 0:\n",
    "            t = (it*dt - rec_spikes)\n",
    "            I_syn = synaptic_current(I0, tau_syn, t)\n",
    "        else:\n",
    "            I_syn = 0\n",
    "        \n",
    "        # Compute total input current\n",
    "        I_total = I_syn + I_ext[it]\n",
    "        \n",
    "        if tr > 0:  # check if in refractory period\n",
    "            v[it] = V_reset  # set voltage to reset\n",
    "            tr = tr - 1 # reduce running counter of refractory period\n",
    "\n",
    "        elif v[it] >= V_th:  # if voltage over threshold\n",
    "            rec_spikes = np.append(rec_spikes, it*dt)  # record spike event\n",
    "            v[it] = V_reset  # reset voltage\n",
    "            tr = t_ref / dt  # set refractory time\n",
    "\n",
    "        # calculate the increment of the membrane potential\n",
    "        dv = (-(v[it] - E_L) + I_total / g_L) * (dt / tau_m)\n",
    "\n",
    "        # Update the membrane potential\n",
    "        v[it + 1] = v[it] + dv\n",
    "        \n",
    "        # Get spike times in ms\n",
    "        rec_spikes = np.array(rec_spikes) * dt\n",
    "        # compute firing rate\n",
    "        num_spikes = len(rec_spikes)\n",
    "        duration = Lt * dt\n",
    "        firing_rate = num_spikes / duration * 1000 \n",
    "\n",
    "    return firing_rate"
   ]
  },
  {
   "cell_type": "code",
   "execution_count": 86,
   "metadata": {},
   "outputs": [],
   "source": [
    "def plot_firing_rate_vs_input(params, I_values):\n",
    "    \"\"\"\n",
    "    Plots the firing rate as a function of the input current.\n",
    "\n",
    "    Args:\n",
    "    params     : parameter dictionary\n",
    "    rate       : average firing rate of the Poisson process\n",
    "    mu_range   : range of input current values to test\n",
    "    num_trials : number of trials to run for each input current value\n",
    "\n",
    "    Returns:\n",
    "    None (plots the results)\n",
    "    \"\"\"\n",
    "    firing_rates = []\n",
    "    for I in I_values:\n",
    "        firing_rate = run_synaptic_LIF(params, I)\n",
    "        firing_rates.append(firing_rate)\n",
    "\n",
    "    plt.plot(I_values, firing_rates, 'b')\n",
    "    plt.xlabel('Input Current (mA)')\n",
    "    plt.ylabel('Firing Rate (Hz)')\n",
    "    plt.title('Firing Rate vs. Input Current')\n",
    "    plt.savefig('Firing_rate(Hz)_vs_External_input_current(mA)_plot.pdf')\n",
    "    plt.show()"
   ]
  },
  {
   "cell_type": "code",
   "execution_count": 87,
   "metadata": {},
   "outputs": [],
   "source": [
    "# Default parameters\n",
    "params = default_params(T=1000.)"
   ]
  },
  {
   "cell_type": "code",
   "execution_count": 95,
   "metadata": {},
   "outputs": [],
   "source": [
    "# Add parameters\n",
    "params['tau_syn'] = 5.  # [ms]\n",
    "params['I0'] = 20.\n",
    "\n",
    "# Generate poisson spike trains\n",
    "rate = 500 # poisson rate (Hz)\n",
    "I_pos = generate_poisson_spikes(params, rate=rate, user_seed=False)"
   ]
  },
  {
   "cell_type": "code",
   "execution_count": 96,
   "metadata": {},
   "outputs": [],
   "source": [
    "# Simulate conductance-based LIF model\n",
    "firing_rate = run_synaptic_LIF(params, I_ext=I_pos)"
   ]
  },
  {
   "cell_type": "code",
   "execution_count": 101,
   "metadata": {},
   "outputs": [
    {
     "data": {
      "text/plain": [
       "Text(0, 0.5, '$I_{pos}$ (nA)')"
      ]
     },
     "execution_count": 101,
     "metadata": {},
     "output_type": "execute_result"
    },
    {
     "data": {
      "image/png": "[encoded data removed]",
      "text/plain": [
       "<Figure size 640x480 with 1 Axes>"
      ]
     },
     "metadata": {},
     "output_type": "display_data"
    }
   ],
   "source": [
    "# Plot input spikes\n",
    "plt.plot(params['range_t'], I_pos, 'blue')\n",
    "plt.xlabel('Time (ms)')\n",
    "plt.ylabel(r'$I_{pos}$ (nA)')"
   ]
  },
  {
   "cell_type": "code",
   "execution_count": 98,
   "metadata": {},
   "outputs": [
    {
     "data": {
      "image/png": "[encoded data removed]",
      "text/plain": [
       "<Figure size 640x480 with 1 Axes>"
      ]
     },
     "metadata": {},
     "output_type": "display_data"
    }
   ],
   "source": [
    "# Plot firing rate vs input current\n",
    "plot_firing_rate_vs_input(params, I_pos)"
   ]
  }
 ],
 "metadata": {
  "kernelspec": {
   "display_name": "neuro",
   "language": "python",
   "name": "python3"
  },
  "language_info": {
   "codemirror_mode": {
    "name": "ipython",
    "version": 3
   },
   "file_extension": ".py",
   "mimetype": "text/x-python",
   "name": "python",
   "nbconvert_exporter": "python",
   "pygments_lexer": "ipython3",
   "version": "3.8.16"
  },
  "orig_nbformat": 4
 },
 "nbformat": 4,
 "nbformat_minor": 2
}
