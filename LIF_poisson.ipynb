{
 "cells": [
  {
   "cell_type": "code",
   "execution_count": 317,
   "metadata": {},
   "outputs": [],
   "source": [
    "# Importing dependencies\n",
    "import numpy as np\n",
    "from matplotlib import pyplot as plt"
   ]
  },
  {
   "attachments": {},
   "cell_type": "markdown",
   "metadata": {},
   "source": [
    "The dynamics of single neuron integrate and fire model can be explained by this equation:\n",
    "\n",
    "$$\n",
    "    \\tau_m \\frac{\\Delta V}{\\Delta t} = -(V - E_L) + \\frac{I}{g_L}\n",
    "$$\n",
    "\n",
    "Where $V$ is the membrane potential, $g_L$ is the leak conductance, $\\tau$ is the time constant, $I$ is the external input current, $E_L$ is membrane potential"
   ]
  },
  {
   "cell_type": "code",
   "execution_count": 614,
   "metadata": {},
   "outputs": [],
   "source": [
    "# Define the model parameters\n",
    "def default_params(**kwargs):\n",
    "    params = {}\n",
    "\n",
    "    # Define neuron parameters\n",
    "    params['tau'] = 50.0 # Membrane time constant\n",
    "    params['g_L'] = 1e-6  # Leak resistance (in ohms)\n",
    "    params['E_L'] = 0.0  # Resting potential (in mV)\n",
    "    params['V_th'] = 20.0  # Threshold voltage (in mV)\n",
    "    params['V_reset'] = 0.0  # Reset voltage (in mV)\n",
    "    params['V_init'] = 0.0   # initial potential [mV]\n",
    "    params['t_ref'] = 5.0  # Refractory period (in ms)\n",
    "\n",
    "    # Define the simulation parameters\n",
    "    params['dt'] = 0.1  # Time step (in ms)\n",
    "    params['T'] = 1000.0  # Simulation duration (in ms)\n",
    "\n",
    "    params['range_t'] = np.arange(0, params['T'], params['dt'])  # Vector of discretized time points [ms]\n",
    "\n",
    "    # external parameters if any \n",
    "    for k in kwargs:\n",
    "        params[k] = kwargs[k]\n",
    "\n",
    "    return params"
   ]
  },
  {
   "cell_type": "code",
   "execution_count": 615,
   "metadata": {},
   "outputs": [
    {
     "name": "stdout",
     "output_type": "stream",
     "text": [
      "{'tau': 50.0, 'g_L': 1e-06, 'E_L': 0.0, 'V_th': 20.0, 'V_reset': 0.0, 'V_init': 0.0, 't_ref': 5.0, 'dt': 0.1, 'T': 1000.0, 'range_t': array([0.000e+00, 1.000e-01, 2.000e-01, ..., 9.997e+02, 9.998e+02,\n",
      "       9.999e+02])}\n"
     ]
    }
   ],
   "source": [
    "params = default_params()\n",
    "print(params)"
   ]
  },
  {
   "cell_type": "code",
   "execution_count": 608,
   "metadata": {},
   "outputs": [],
   "source": [
    "def generate_poisson_spikes(params, rate, user_seed=False):\n",
    "    \"\"\"\n",
    "    Generate poisson spike trains\n",
    "\n",
    "    Args:\n",
    "    params      :   Parameters dictionary\n",
    "    rate        :   Poisson noise amplitude (Hz)\n",
    "    n           :   Number of Poisson spike trains\n",
    "    user_seed   :   Random seed. int or boolean\n",
    "    \"\"\"\n",
    "    # get simulation parameters\n",
    "    dt, T = params['dt'], params['T'] \n",
    "    #range_t = params['range_t']\n",
    "    #Lt = range_t.size\n",
    "    n = int(T / dt) # Number of spike trains\n",
    "    # set random seed\n",
    "    if user_seed:\n",
    "        np.random.seed(seed=user_seed)\n",
    "    else:\n",
    "        np.random.seed()\n",
    "    \n",
    "    # generate poisson spike trains\n",
    "    I_pos = np.random.poisson(rate * (dt/1000.), size=n) \n",
    "    # convert spike trains to spike currents in mA\n",
    "    I_pos = I_pos * 1e-3\n",
    "    \n",
    "    return I_pos"
   ]
  },
  {
   "cell_type": "code",
   "execution_count": 609,
   "metadata": {},
   "outputs": [],
   "source": [
    "def run_LIF(params, I_ext, stop=False):\n",
    "    \"\"\"\n",
    "    Simulate the LIF dynamics with external input current\n",
    "\n",
    "    Args:\n",
    "        params     : parameter dictionary\n",
    "        I_ext      : external input current [mA]. The injected current here can be a value or an array\n",
    "        stop       : boolean. If True, use a current pulse\n",
    "\n",
    "    Returns:\n",
    "        rec_v      : membrane potential\n",
    "        rec_sp     : spike times\n",
    "    \"\"\"\n",
    "\n",
    "    # Set parameters\n",
    "    V_th, V_reset = params['V_th'], params['V_reset']\n",
    "    tau, g_L = params['tau'], params['g_L']\n",
    "    V_init, E_L = params['V_init'], params['E_L']\n",
    "    dt, range_t = params['dt'], params['range_t']\n",
    "    t_ref = params['t_ref']\n",
    "    Lt = range_t.size\n",
    "\n",
    "    # Initialize voltage and current\n",
    "    v = np.zeros(Lt)\n",
    "    v[0] = V_init\n",
    "    I_ext = I_ext * np.ones(Lt)\n",
    "    tr = 0.  # the count for refractory duration\n",
    "    rec_spikes = [] # record spike times\n",
    "\n",
    "    # If current pulse, set beginning and end to 0\n",
    "    if stop:\n",
    "        I_ext[:int(len(I_ext) / 2) - 1000] = 0\n",
    "        I_ext[int(len(I_ext) / 2) + 1000:] = 0\n",
    "    \n",
    "    # Simulate LIF dyanmics\n",
    "    for it in range(Lt - 1):\n",
    "        \n",
    "        if tr > 0:  # check if in refractory period\n",
    "            v[it] = V_reset  # set voltage to reset\n",
    "            tr = tr - 1 # reduce running counter of refractory period\n",
    "\n",
    "        elif v[it] >= V_th:  # if voltage over threshold\n",
    "            rec_spikes = np.append(rec_spikes, it*dt)  # record spike event\n",
    "            v[it] = V_reset  # reset voltage\n",
    "            tr = t_ref / dt  # set refractory time\n",
    "\n",
    "        # Calculate the increment of the membrane potential\n",
    "        dv = (-(v[it] - E_L) + I_ext[it] / g_L) * (dt / tau)\n",
    "\n",
    "        # Update the membrane potential\n",
    "        v[it + 1] = v[it] + dv\n",
    "        \n",
    "        # Get spike times in ms\n",
    "        rec_spikes = np.array(rec_spikes) * dt\n",
    "        # compute firing rate\n",
    "        #window_size = int(1000/dt)\n",
    "        num_spikes = len(rec_spikes)\n",
    "        duration = Lt * dt\n",
    "        firing_rate = num_spikes / duration * 1000 \n",
    "\n",
    "    return firing_rate"
   ]
  },
  {
   "attachments": {},
   "cell_type": "markdown",
   "metadata": {},
   "source": [
    "Generate and plot poisson input current"
   ]
  },
  {
   "cell_type": "code",
   "execution_count": 619,
   "metadata": {},
   "outputs": [
    {
     "data": {
      "text/plain": [
       "Text(0, 0.5, '$I_{pos}$ (mA)')"
      ]
     },
     "execution_count": 619,
     "metadata": {},
     "output_type": "execute_result"
    },
    {
     "data": {
      "image/png": "[encoded data removed]",
      "text/plain": [
       "<Figure size 640x480 with 1 Axes>"
      ]
     },
     "metadata": {},
     "output_type": "display_data"
    }
   ],
   "source": [
    "rate = 10 # poisson rate (Hz)\n",
    "I_pos = generate_poisson_spikes(params, rate=rate, user_seed=False)\n",
    "plt.plot(params['range_t'], I_pos, 'b')\n",
    "plt.xlabel('Time (ms)')\n",
    "plt.ylabel(r'$I_{pos}$ (mA)')"
   ]
  },
  {
   "attachments": {},
   "cell_type": "markdown",
   "metadata": {},
   "source": [
    "Simulate LIF neuron with poisson input current"
   ]
  },
  {
   "cell_type": "code",
   "execution_count": 622,
   "metadata": {},
   "outputs": [],
   "source": [
    "def plot_firing_rate_vs_input(params, I_values):\n",
    "    \"\"\"\n",
    "    Plots the firing rate as a function of the input current.\n",
    "\n",
    "    Args:\n",
    "    params     : parameter dictionary\n",
    "    rate       : average firing rate of the Poisson process\n",
    "    mu_range   : range of input current values to test\n",
    "    num_trials : number of trials to run for each input current value\n",
    "\n",
    "    Returns:\n",
    "    None (plots the results)\n",
    "    \"\"\"\n",
    "    firing_rates = []\n",
    "    for I in I_values:\n",
    "        firing_rate = run_LIF(params, I)\n",
    "        firing_rates.append(firing_rate)\n",
    "\n",
    "    plt.plot(I_values, firing_rates, 'b')\n",
    "    plt.xlabel('Input Current (mA)')\n",
    "    plt.ylabel('Firing Rate (Hz)')\n",
    "    plt.title('Firing Rate vs. Input Current')\n",
    "    plt.savefig('Firing_rate(Hz)_vs_External_input_current(mA)_plot.pdf')\n",
    "    plt.show()"
   ]
  },
  {
   "cell_type": "code",
   "execution_count": 623,
   "metadata": {},
   "outputs": [
    {
     "data": {
      "image/png": "[encoded data removed]",
      "text/plain": [
       "<Figure size 640x480 with 1 Axes>"
      ]
     },
     "metadata": {},
     "output_type": "display_data"
    }
   ],
   "source": [
    "# Plot firing rate vs input current\n",
    "plot_firing_rate_vs_input(params, I_pos)"
   ]
  }
 ],
 "metadata": {
  "kernelspec": {
   "display_name": "neuro",
   "language": "python",
   "name": "python3"
  },
  "language_info": {
   "codemirror_mode": {
    "name": "ipython",
    "version": 3
   },
   "file_extension": ".py",
   "mimetype": "text/x-python",
   "name": "python",
   "nbconvert_exporter": "python",
   "pygments_lexer": "ipython3",
   "version": "3.8.16"
  },
  "orig_nbformat": 4
 },
 "nbformat": 4,
 "nbformat_minor": 2
}
